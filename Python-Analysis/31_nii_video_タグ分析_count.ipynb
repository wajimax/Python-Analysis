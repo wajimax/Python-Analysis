{
 "cells": [
  {
   "cell_type": "code",
   "execution_count": 1,
   "metadata": {
    "collapsed": true
   },
   "outputs": [],
   "source": [
    "#交差検証\n",
    "%matplotlib inline\n",
    "import sys\n",
    "import numpy as np\n",
    "import pandas as pd\n",
    "import matplotlib.pyplot as plt\n",
    "from collections import defaultdict\n",
    "import codecs\n",
    "import seaborn as sns"
   ]
  },
  {
   "cell_type": "code",
   "execution_count": null,
   "metadata": {
    "collapsed": true
   },
   "outputs": [],
   "source": []
  },
  {
   "cell_type": "code",
   "execution_count": 2,
   "metadata": {
    "collapsed": true
   },
   "outputs": [],
   "source": [
    "video_tsv_merge_data = pd.read_table('./Output/video_tsv_merge_data.tsv',sep=\"\\t\", index_col=None)"
   ]
  },
  {
   "cell_type": "code",
   "execution_count": 3,
   "metadata": {
    "collapsed": true,
    "scrolled": true
   },
   "outputs": [],
   "source": [
    "# UNIX時間を変換\n",
    "video_tsv_merge_data['upload_time'] =  pd.to_datetime(video_tsv_merge_data['upload_time'], unit='s')\n",
    "video_tsv_merge_data['year'] = video_tsv_merge_data['upload_time'].dt.year\n",
    "video_tsv_merge_data['month'] = video_tsv_merge_data['upload_time'].dt.month\n",
    "video_tsv_merge_data['day'] = video_tsv_merge_data['upload_time'].dt.day\n",
    "video_tsv_merge_data['hour'] = video_tsv_merge_data['upload_time'].dt.hour\n",
    "video_tsv_merge_data['weekday_name'] = video_tsv_merge_data['upload_time'].dt.weekday_name"
   ]
  },
  {
   "cell_type": "code",
   "execution_count": null,
   "metadata": {
    "collapsed": true
   },
   "outputs": [],
   "source": []
  },
  {
   "cell_type": "code",
   "execution_count": 4,
   "metadata": {
    "scrolled": true
   },
   "outputs": [],
   "source": [
    "video_tsv_merge_data = video_tsv_merge_data.fillna({'category':'category_NaN'})\n",
    "#video_tsv_merge_data"
   ]
  },
  {
   "cell_type": "code",
   "execution_count": null,
   "metadata": {
    "collapsed": true
   },
   "outputs": [],
   "source": []
  },
  {
   "cell_type": "code",
   "execution_count": 5,
   "metadata": {
    "collapsed": true,
    "scrolled": false
   },
   "outputs": [],
   "source": [
    "#watch_num(合計)\n",
    "video_tsv_merge_pivot = pd.pivot_table(video_tsv_merge_data, index=['month'],columns=['year'], values=['watch_num'],aggfunc=np.sum, dropna=True, margins=True, margins_name='Total')\n",
    "video_tsv_merge_pivot = video_tsv_merge_pivot.fillna(0)\n",
    "video_tsv_merge_pivot.to_csv('./OutPut/pivot_count/year/video_pivot_month_watch_num.tsv', sep='\\t')\n",
    "video_tsv_merge_pivot_read = pd.read_table('./OutPut/pivot_count/year/video_pivot_month_watch_num.tsv',sep=\"\\t\", index_col=0,header=1)\n",
    "#論文集計用\n",
    "flights = video_tsv_merge_pivot_read.iloc[13:14,1:13]\n",
    "year_watch_num_pivot = flights.T\n",
    "year_watch_num_pivot.columns = [\"watch_num\"]"
   ]
  },
  {
   "cell_type": "code",
   "execution_count": null,
   "metadata": {
    "collapsed": true
   },
   "outputs": [],
   "source": []
  },
  {
   "cell_type": "code",
   "execution_count": 6,
   "metadata": {
    "collapsed": true
   },
   "outputs": [],
   "source": [
    "#comment_num(合計)\n",
    "video_tsv_merge_pivot = pd.pivot_table(video_tsv_merge_data, index=['month'],columns=['year'], values=['comment_num'],aggfunc=np.sum, dropna=True, margins=True, margins_name='Total')\n",
    "video_tsv_merge_pivot = video_tsv_merge_pivot.fillna(0)\n",
    "video_tsv_merge_pivot.to_csv('./OutPut/pivot_count/year/video_pivot_month_comment_num.tsv', sep='\\t')\n",
    "video_tsv_merge_pivot_read = pd.read_table('./OutPut/pivot_count/year/video_pivot_month_comment_num.tsv',sep=\"\\t\", index_col=0,header=1)\n",
    "#論文集計用\n",
    "flights = video_tsv_merge_pivot_read.iloc[13:14,1:13]\n",
    "year_comment_num_pivot = flights.T\n",
    "year_comment_num_pivot.columns = [\"comment_num\"]"
   ]
  },
  {
   "cell_type": "code",
   "execution_count": null,
   "metadata": {
    "collapsed": true
   },
   "outputs": [],
   "source": []
  },
  {
   "cell_type": "code",
   "execution_count": 7,
   "metadata": {
    "collapsed": true
   },
   "outputs": [],
   "source": [
    "#mylist_num(合計)\n",
    "video_tsv_merge_pivot = pd.pivot_table(video_tsv_merge_data, index=['month'],columns=['year'], values=['mylist_num'],aggfunc=np.sum, dropna=True, margins=True, margins_name='Total')\n",
    "video_tsv_merge_pivot = video_tsv_merge_pivot.fillna(0)\n",
    "video_tsv_merge_pivot.to_csv('./OutPut/pivot_count/year/video_pivot_month_mylist_num.tsv', sep='\\t')\n",
    "video_tsv_merge_pivot_read = pd.read_table('./OutPut/pivot_count/year/video_pivot_month_mylist_num.tsv',sep=\"\\t\", index_col=0,header=1)\n",
    "#論文集計用\n",
    "flights = video_tsv_merge_pivot_read.iloc[13:14,1:13]\n",
    "year_mylist_num_pivot = flights.T\n",
    "year_mylist_num_pivot.columns = [\"mylist_num\"]"
   ]
  },
  {
   "cell_type": "code",
   "execution_count": null,
   "metadata": {
    "collapsed": true
   },
   "outputs": [],
   "source": []
  },
  {
   "cell_type": "code",
   "execution_count": 8,
   "metadata": {
    "collapsed": true
   },
   "outputs": [],
   "source": [
    "#count(合計)\n",
    "video_tsv_merge_pivot = pd.pivot_table(video_tsv_merge_data, index=['month'],columns=['year'], values=['video_id'],aggfunc='count', dropna=True, margins=True, margins_name='Total')\n",
    "video_tsv_merge_pivot = video_tsv_merge_pivot.fillna(0)\n",
    "video_tsv_merge_pivot.to_csv('./OutPut/pivot_count/year/video_pivot_month_video_id_count.tsv', sep='\\t')\n",
    "video_tsv_merge_pivot_read = pd.read_table('./OutPut/pivot_count/year/video_pivot_month_video_id_count.tsv',sep=\"\\t\", index_col=0,header=1)\n",
    "video_tsv_merge_pivot_read\n",
    "#論文集計用\n",
    "flights = video_tsv_merge_pivot_read.iloc[13:14,1:13]\n",
    "year_count_pivot = flights.T\n",
    "year_count_pivot.columns = [\"count\"]"
   ]
  },
  {
   "cell_type": "code",
   "execution_count": 9,
   "metadata": {
    "collapsed": true
   },
   "outputs": [],
   "source": [
    "#length(平均)\n",
    "video_tsv_merge_pivot = pd.pivot_table(video_tsv_merge_data, index=['month'],columns=['year'], values=['length'],aggfunc=np.mean, dropna=True, margins=True, margins_name='Total')\n",
    "video_tsv_merge_pivot = video_tsv_merge_pivot.fillna(0)\n",
    "video_tsv_merge_pivot.to_csv('./OutPut/pivot_count/year/video_pivot_length.tsv', sep='\\t')\n",
    "video_tsv_merge_pivot_read = pd.read_table('./OutPut/pivot_count/year/video_pivot_length.tsv',sep=\"\\t\", index_col=0,header=1)\n",
    "#論文集計用\n",
    "flights = video_tsv_merge_pivot_read.iloc[13:14,1:13]\n",
    "year_length_pivot = flights.T\n",
    "year_length_pivot.columns = [\"length\"]"
   ]
  },
  {
   "cell_type": "code",
   "execution_count": 10,
   "metadata": {
    "collapsed": true
   },
   "outputs": [],
   "source": [
    "#size_high(合計)\n",
    "video_tsv_merge_pivot = pd.pivot_table(video_tsv_merge_data, index=['month'],columns=['year'], values=['size_high'],aggfunc=np.sum, dropna=True, margins=True, margins_name='Total')\n",
    "video_tsv_merge_pivot = video_tsv_merge_pivot.fillna(0)\n",
    "video_tsv_merge_pivot.to_csv('./OutPut/pivot_count/year/video_pivot_month_size_high.tsv', sep='\\t')\n",
    "video_tsv_merge_pivot_read = pd.read_table('./OutPut/pivot_count/year/video_pivot_month_size_high.tsv',sep=\"\\t\", index_col=0,header=1)\n",
    "#論文集計用\n",
    "flights = video_tsv_merge_pivot_read.iloc[13:14,1:13]\n",
    "year_size_high_pivot = flights.T\n",
    "year_size_high_pivot.columns = [\"size_high\"]"
   ]
  },
  {
   "cell_type": "code",
   "execution_count": null,
   "metadata": {
    "collapsed": true
   },
   "outputs": [],
   "source": []
  },
  {
   "cell_type": "code",
   "execution_count": null,
   "metadata": {
    "collapsed": true
   },
   "outputs": [],
   "source": []
  },
  {
   "cell_type": "code",
   "execution_count": 11,
   "metadata": {},
   "outputs": [
    {
     "data": {
      "text/html": [
       "<div>\n",
       "<style>\n",
       "    .dataframe thead tr:only-child th {\n",
       "        text-align: right;\n",
       "    }\n",
       "\n",
       "    .dataframe thead th {\n",
       "        text-align: left;\n",
       "    }\n",
       "\n",
       "    .dataframe tbody tr th {\n",
       "        vertical-align: top;\n",
       "    }\n",
       "</style>\n",
       "<table border=\"1\" class=\"dataframe\">\n",
       "  <thead>\n",
       "    <tr style=\"text-align: right;\">\n",
       "      <th></th>\n",
       "      <th>watch_num</th>\n",
       "      <th>comment_num</th>\n",
       "      <th>mylist_num</th>\n",
       "      <th>count</th>\n",
       "      <th>length</th>\n",
       "      <th>size_high</th>\n",
       "    </tr>\n",
       "  </thead>\n",
       "  <tbody>\n",
       "    <tr>\n",
       "      <th>2007</th>\n",
       "      <td>5.814480e+09</td>\n",
       "      <td>567490939.0</td>\n",
       "      <td>60480895.0</td>\n",
       "      <td>341956.0</td>\n",
       "      <td>501.622147</td>\n",
       "      <td>6.291661e+12</td>\n",
       "    </tr>\n",
       "    <tr>\n",
       "      <th>2008</th>\n",
       "      <td>9.766948e+09</td>\n",
       "      <td>617547118.0</td>\n",
       "      <td>108275350.0</td>\n",
       "      <td>1019794.0</td>\n",
       "      <td>545.537625</td>\n",
       "      <td>2.066789e+13</td>\n",
       "    </tr>\n",
       "    <tr>\n",
       "      <th>2009</th>\n",
       "      <td>8.919755e+09</td>\n",
       "      <td>452899702.0</td>\n",
       "      <td>108303014.0</td>\n",
       "      <td>1244285.0</td>\n",
       "      <td>684.801943</td>\n",
       "      <td>3.994011e+13</td>\n",
       "    </tr>\n",
       "    <tr>\n",
       "      <th>2010</th>\n",
       "      <td>8.943290e+09</td>\n",
       "      <td>401419916.0</td>\n",
       "      <td>109874506.0</td>\n",
       "      <td>1567745.0</td>\n",
       "      <td>689.562156</td>\n",
       "      <td>6.021373e+13</td>\n",
       "    </tr>\n",
       "    <tr>\n",
       "      <th>2011</th>\n",
       "      <td>8.620262e+09</td>\n",
       "      <td>391913096.0</td>\n",
       "      <td>110378872.0</td>\n",
       "      <td>1710460.0</td>\n",
       "      <td>696.566673</td>\n",
       "      <td>7.787537e+13</td>\n",
       "    </tr>\n",
       "    <tr>\n",
       "      <th>2012</th>\n",
       "      <td>9.450352e+09</td>\n",
       "      <td>316731576.0</td>\n",
       "      <td>118878017.0</td>\n",
       "      <td>1717947.0</td>\n",
       "      <td>717.077111</td>\n",
       "      <td>8.973641e+13</td>\n",
       "    </tr>\n",
       "    <tr>\n",
       "      <th>2013</th>\n",
       "      <td>9.475435e+09</td>\n",
       "      <td>240207860.0</td>\n",
       "      <td>95628541.0</td>\n",
       "      <td>1610989.0</td>\n",
       "      <td>734.640256</td>\n",
       "      <td>9.328835e+13</td>\n",
       "    </tr>\n",
       "    <tr>\n",
       "      <th>2014</th>\n",
       "      <td>9.395801e+09</td>\n",
       "      <td>224096843.0</td>\n",
       "      <td>83777048.0</td>\n",
       "      <td>1558925.0</td>\n",
       "      <td>738.979148</td>\n",
       "      <td>9.730356e+13</td>\n",
       "    </tr>\n",
       "    <tr>\n",
       "      <th>2015</th>\n",
       "      <td>1.005514e+10</td>\n",
       "      <td>221052049.0</td>\n",
       "      <td>83378154.0</td>\n",
       "      <td>1658839.0</td>\n",
       "      <td>744.342906</td>\n",
       "      <td>1.104202e+14</td>\n",
       "    </tr>\n",
       "    <tr>\n",
       "      <th>2016</th>\n",
       "      <td>8.415210e+09</td>\n",
       "      <td>162981048.0</td>\n",
       "      <td>64295946.0</td>\n",
       "      <td>1606669.0</td>\n",
       "      <td>759.859425</td>\n",
       "      <td>1.111770e+14</td>\n",
       "    </tr>\n",
       "    <tr>\n",
       "      <th>2017</th>\n",
       "      <td>6.051101e+09</td>\n",
       "      <td>125545472.0</td>\n",
       "      <td>48444305.0</td>\n",
       "      <td>1475533.0</td>\n",
       "      <td>818.534747</td>\n",
       "      <td>1.028548e+14</td>\n",
       "    </tr>\n",
       "    <tr>\n",
       "      <th>2018</th>\n",
       "      <td>3.325916e+09</td>\n",
       "      <td>85697716.0</td>\n",
       "      <td>29626337.0</td>\n",
       "      <td>1189691.0</td>\n",
       "      <td>847.519416</td>\n",
       "      <td>4.759506e+13</td>\n",
       "    </tr>\n",
       "  </tbody>\n",
       "</table>\n",
       "</div>"
      ],
      "text/plain": [
       "         watch_num  comment_num   mylist_num      count      length  \\\n",
       "2007  5.814480e+09  567490939.0   60480895.0   341956.0  501.622147   \n",
       "2008  9.766948e+09  617547118.0  108275350.0  1019794.0  545.537625   \n",
       "2009  8.919755e+09  452899702.0  108303014.0  1244285.0  684.801943   \n",
       "2010  8.943290e+09  401419916.0  109874506.0  1567745.0  689.562156   \n",
       "2011  8.620262e+09  391913096.0  110378872.0  1710460.0  696.566673   \n",
       "2012  9.450352e+09  316731576.0  118878017.0  1717947.0  717.077111   \n",
       "2013  9.475435e+09  240207860.0   95628541.0  1610989.0  734.640256   \n",
       "2014  9.395801e+09  224096843.0   83777048.0  1558925.0  738.979148   \n",
       "2015  1.005514e+10  221052049.0   83378154.0  1658839.0  744.342906   \n",
       "2016  8.415210e+09  162981048.0   64295946.0  1606669.0  759.859425   \n",
       "2017  6.051101e+09  125545472.0   48444305.0  1475533.0  818.534747   \n",
       "2018  3.325916e+09   85697716.0   29626337.0  1189691.0  847.519416   \n",
       "\n",
       "         size_high  \n",
       "2007  6.291661e+12  \n",
       "2008  2.066789e+13  \n",
       "2009  3.994011e+13  \n",
       "2010  6.021373e+13  \n",
       "2011  7.787537e+13  \n",
       "2012  8.973641e+13  \n",
       "2013  9.328835e+13  \n",
       "2014  9.730356e+13  \n",
       "2015  1.104202e+14  \n",
       "2016  1.111770e+14  \n",
       "2017  1.028548e+14  \n",
       "2018  4.759506e+13  "
      ]
     },
     "execution_count": 11,
     "metadata": {},
     "output_type": "execute_result"
    }
   ],
   "source": [
    "#論文用の表を出力\n",
    "year_concat = pd.concat([year_watch_num_pivot,year_comment_num_pivot,year_mylist_num_pivot,year_count_pivot,year_length_pivot,year_size_high_pivot],axis=1)\n",
    "year_concat.to_csv('./OutPut/pivot_count/year/year_concat.tsv', sep='\\t')\n",
    "year_concat = pd.read_table('./OutPut/pivot_count/year/year_concat.tsv',sep=\"\\t\", index_col=0,header=0)\n",
    "year_concat"
   ]
  },
  {
   "cell_type": "code",
   "execution_count": null,
   "metadata": {
    "collapsed": true
   },
   "outputs": [],
   "source": []
  },
  {
   "cell_type": "code",
   "execution_count": 12,
   "metadata": {
    "scrolled": false
   },
   "outputs": [],
   "source": [
    "video_tsv_merge_pivot = pd.pivot_table(video_tsv_merge_data, index=['year'],columns=['category'], values=['video_id'],aggfunc='count', dropna=True)\n",
    "video_tsv_merge_pivot = video_tsv_merge_pivot.fillna(0)\n",
    "video_tsv_merge_pivot.to_csv('./OutPut/pivot_count/year/video_category_count.tsv', sep='\\t')\n",
    "video_tsv_merge_pivot_read = pd.read_table('./OutPut/pivot_count/year/video_category_count.tsv',sep=\"\\t\", index_col=0,header=1)\n",
    "#video_tsv_merge_pivot_read"
   ]
  },
  {
   "cell_type": "code",
   "execution_count": null,
   "metadata": {
    "collapsed": true,
    "scrolled": false
   },
   "outputs": [],
   "source": []
  },
  {
   "cell_type": "code",
   "execution_count": 13,
   "metadata": {},
   "outputs": [
    {
     "data": {
      "text/html": [
       "<div>\n",
       "<style>\n",
       "    .dataframe thead tr:only-child th {\n",
       "        text-align: right;\n",
       "    }\n",
       "\n",
       "    .dataframe thead th {\n",
       "        text-align: left;\n",
       "    }\n",
       "\n",
       "    .dataframe tbody tr th {\n",
       "        vertical-align: top;\n",
       "    }\n",
       "</style>\n",
       "<table border=\"1\" class=\"dataframe\">\n",
       "  <thead>\n",
       "    <tr style=\"text-align: right;\">\n",
       "      <th>category</th>\n",
       "      <th>2007</th>\n",
       "      <th>2008</th>\n",
       "      <th>2009</th>\n",
       "      <th>2010</th>\n",
       "      <th>2011</th>\n",
       "      <th>2012</th>\n",
       "      <th>2013</th>\n",
       "      <th>2014</th>\n",
       "      <th>2015</th>\n",
       "      <th>2016</th>\n",
       "      <th>2017</th>\n",
       "      <th>2018</th>\n",
       "    </tr>\n",
       "  </thead>\n",
       "  <tbody>\n",
       "    <tr>\n",
       "      <th>category_NaN</th>\n",
       "      <td>122029</td>\n",
       "      <td>262188</td>\n",
       "      <td>364137</td>\n",
       "      <td>297603</td>\n",
       "      <td>181249</td>\n",
       "      <td>176479</td>\n",
       "      <td>168967</td>\n",
       "      <td>175886</td>\n",
       "      <td>176059</td>\n",
       "      <td>210156</td>\n",
       "      <td>180891</td>\n",
       "      <td>137233</td>\n",
       "    </tr>\n",
       "    <tr>\n",
       "      <th>エンターテイメント</th>\n",
       "      <td>8115</td>\n",
       "      <td>34174</td>\n",
       "      <td>36689</td>\n",
       "      <td>54908</td>\n",
       "      <td>77823</td>\n",
       "      <td>77303</td>\n",
       "      <td>72949</td>\n",
       "      <td>69434</td>\n",
       "      <td>75287</td>\n",
       "      <td>72447</td>\n",
       "      <td>70780</td>\n",
       "      <td>67689</td>\n",
       "    </tr>\n",
       "    <tr>\n",
       "      <th>音楽</th>\n",
       "      <td>30317</td>\n",
       "      <td>111844</td>\n",
       "      <td>109878</td>\n",
       "      <td>143113</td>\n",
       "      <td>154328</td>\n",
       "      <td>125090</td>\n",
       "      <td>88816</td>\n",
       "      <td>74963</td>\n",
       "      <td>73770</td>\n",
       "      <td>62269</td>\n",
       "      <td>60373</td>\n",
       "      <td>50651</td>\n",
       "    </tr>\n",
       "    <tr>\n",
       "      <th>歌ッテミタ</th>\n",
       "      <td>9213</td>\n",
       "      <td>39114</td>\n",
       "      <td>47702</td>\n",
       "      <td>91362</td>\n",
       "      <td>111448</td>\n",
       "      <td>111196</td>\n",
       "      <td>92263</td>\n",
       "      <td>70833</td>\n",
       "      <td>61779</td>\n",
       "      <td>55542</td>\n",
       "      <td>51741</td>\n",
       "      <td>46867</td>\n",
       "    </tr>\n",
       "    <tr>\n",
       "      <th>ソノ他</th>\n",
       "      <td>3803</td>\n",
       "      <td>10586</td>\n",
       "      <td>10143</td>\n",
       "      <td>22442</td>\n",
       "      <td>38611</td>\n",
       "      <td>35063</td>\n",
       "      <td>35043</td>\n",
       "      <td>37713</td>\n",
       "      <td>48521</td>\n",
       "      <td>42412</td>\n",
       "      <td>40770</td>\n",
       "      <td>36662</td>\n",
       "    </tr>\n",
       "    <tr>\n",
       "      <th>アニメ</th>\n",
       "      <td>20578</td>\n",
       "      <td>45193</td>\n",
       "      <td>35867</td>\n",
       "      <td>44807</td>\n",
       "      <td>58771</td>\n",
       "      <td>61296</td>\n",
       "      <td>54012</td>\n",
       "      <td>51634</td>\n",
       "      <td>56600</td>\n",
       "      <td>48700</td>\n",
       "      <td>46786</td>\n",
       "      <td>34706</td>\n",
       "    </tr>\n",
       "    <tr>\n",
       "      <th>例ノアレ</th>\n",
       "      <td>28</td>\n",
       "      <td>346</td>\n",
       "      <td>670</td>\n",
       "      <td>7885</td>\n",
       "      <td>12221</td>\n",
       "      <td>12947</td>\n",
       "      <td>14625</td>\n",
       "      <td>17302</td>\n",
       "      <td>24763</td>\n",
       "      <td>36355</td>\n",
       "      <td>42621</td>\n",
       "      <td>33576</td>\n",
       "    </tr>\n",
       "    <tr>\n",
       "      <th>VOCALOID</th>\n",
       "      <td>865</td>\n",
       "      <td>7427</td>\n",
       "      <td>12989</td>\n",
       "      <td>35283</td>\n",
       "      <td>44916</td>\n",
       "      <td>54268</td>\n",
       "      <td>53062</td>\n",
       "      <td>46483</td>\n",
       "      <td>42066</td>\n",
       "      <td>36994</td>\n",
       "      <td>34814</td>\n",
       "      <td>31312</td>\n",
       "    </tr>\n",
       "    <tr>\n",
       "      <th>アイドルマスター</th>\n",
       "      <td>6218</td>\n",
       "      <td>18897</td>\n",
       "      <td>23935</td>\n",
       "      <td>33117</td>\n",
       "      <td>35519</td>\n",
       "      <td>35106</td>\n",
       "      <td>28190</td>\n",
       "      <td>26681</td>\n",
       "      <td>25889</td>\n",
       "      <td>31283</td>\n",
       "      <td>31723</td>\n",
       "      <td>27884</td>\n",
       "    </tr>\n",
       "    <tr>\n",
       "      <th>ラジオ</th>\n",
       "      <td>5310</td>\n",
       "      <td>12695</td>\n",
       "      <td>15234</td>\n",
       "      <td>17442</td>\n",
       "      <td>20749</td>\n",
       "      <td>22368</td>\n",
       "      <td>21728</td>\n",
       "      <td>20463</td>\n",
       "      <td>20994</td>\n",
       "      <td>21003</td>\n",
       "      <td>22302</td>\n",
       "      <td>18900</td>\n",
       "    </tr>\n",
       "    <tr>\n",
       "      <th>踊ッテミタ</th>\n",
       "      <td>1498</td>\n",
       "      <td>5501</td>\n",
       "      <td>6054</td>\n",
       "      <td>9862</td>\n",
       "      <td>17366</td>\n",
       "      <td>17944</td>\n",
       "      <td>16498</td>\n",
       "      <td>14960</td>\n",
       "      <td>15460</td>\n",
       "      <td>17052</td>\n",
       "      <td>17411</td>\n",
       "      <td>14908</td>\n",
       "    </tr>\n",
       "    <tr>\n",
       "      <th>スポーツ</th>\n",
       "      <td>6386</td>\n",
       "      <td>22230</td>\n",
       "      <td>18144</td>\n",
       "      <td>23443</td>\n",
       "      <td>26982</td>\n",
       "      <td>24567</td>\n",
       "      <td>21223</td>\n",
       "      <td>18134</td>\n",
       "      <td>17691</td>\n",
       "      <td>15394</td>\n",
       "      <td>14514</td>\n",
       "      <td>14553</td>\n",
       "    </tr>\n",
       "  </tbody>\n",
       "</table>\n",
       "</div>"
      ],
      "text/plain": [
       "category        2007    2008    2009    2010    2011    2012    2013    2014  \\\n",
       "category_NaN  122029  262188  364137  297603  181249  176479  168967  175886   \n",
       "エンターテイメント       8115   34174   36689   54908   77823   77303   72949   69434   \n",
       "音楽             30317  111844  109878  143113  154328  125090   88816   74963   \n",
       "歌ッテミタ           9213   39114   47702   91362  111448  111196   92263   70833   \n",
       "ソノ他             3803   10586   10143   22442   38611   35063   35043   37713   \n",
       "アニメ            20578   45193   35867   44807   58771   61296   54012   51634   \n",
       "例ノアレ              28     346     670    7885   12221   12947   14625   17302   \n",
       "VOCALOID         865    7427   12989   35283   44916   54268   53062   46483   \n",
       "アイドルマスター        6218   18897   23935   33117   35519   35106   28190   26681   \n",
       "ラジオ             5310   12695   15234   17442   20749   22368   21728   20463   \n",
       "踊ッテミタ           1498    5501    6054    9862   17366   17944   16498   14960   \n",
       "スポーツ            6386   22230   18144   23443   26982   24567   21223   18134   \n",
       "\n",
       "category        2015    2016    2017    2018  \n",
       "category_NaN  176059  210156  180891  137233  \n",
       "エンターテイメント      75287   72447   70780   67689  \n",
       "音楽             73770   62269   60373   50651  \n",
       "歌ッテミタ          61779   55542   51741   46867  \n",
       "ソノ他            48521   42412   40770   36662  \n",
       "アニメ            56600   48700   46786   34706  \n",
       "例ノアレ           24763   36355   42621   33576  \n",
       "VOCALOID       42066   36994   34814   31312  \n",
       "アイドルマスター       25889   31283   31723   27884  \n",
       "ラジオ            20994   21003   22302   18900  \n",
       "踊ッテミタ          15460   17052   17411   14908  \n",
       "スポーツ           17691   15394   14514   14553  "
      ]
     },
     "execution_count": 13,
     "metadata": {},
     "output_type": "execute_result"
    }
   ],
   "source": [
    "result_video_tag_year = video_tsv_merge_pivot_read.iloc[2:14,0:39].T.sort_values(\"2018\",ascending=False)\n",
    "result_video_tag_year = result_video_tag_year.astype(int)\n",
    "result_video_tag_year.to_csv('./OutPut/pivot_count/result/result_video_tag_yeart.tsv', sep='\\t')\n",
    "result_video_tag_year.iloc[2:14,0:39]"
   ]
  },
  {
   "cell_type": "code",
   "execution_count": 18,
   "metadata": {},
   "outputs": [
    {
     "data": {
      "text/plain": [
       "ゲーム                             6872919\n",
       "category_NaN                    2452877\n",
       "音楽                              1085412\n",
       "歌ッテミタ                            789060\n",
       "エンターテイメント                        717598\n",
       "実況プレイ動画                          599379\n",
       "アニメ                              558950\n",
       "VOCALOID                         400479\n",
       "ソノ他                              361769\n",
       "アイドルマスター                         324442\n",
       "東方                               259521\n",
       "スポーツ                             223261\n",
       "ラジオ                              219188\n",
       "演奏シテミタ                           218665\n",
       "政治                               203711\n",
       "例ノアレ                             203339\n",
       "R-18                             167605\n",
       "動物                               167308\n",
       "踊ッテミタ                            154514\n",
       "日記                               124538\n",
       "車載動画                              91179\n",
       "描イテミタ                             69924\n",
       "料理                                68615\n",
       "旅行                                56837\n",
       "科学                                52615\n",
       "自然                                51881\n",
       "ニコニコインディーズ                        40413\n",
       "歴史                                39950\n",
       "ニコニコ動画講座                          38188\n",
       "作ッテミタ                             34673\n",
       "ニコニコ技術部                           31108\n",
       "MMD                                8503\n",
       "ニコニコ手芸部                            5850\n",
       "TRPG                               5736\n",
       "バーチャル                              1536\n",
       "鉄道                                  973\n",
       "ASMR                                315\n",
       "幻想入リ                                  1\n",
       "ネオアームストロングサイクロンジェットアームストロング砲          1\n",
       "dtype: int64"
      ]
     },
     "execution_count": 18,
     "metadata": {},
     "output_type": "execute_result"
    }
   ],
   "source": [
    "result_video_tag_year.sum(axis=1).sort_values(ascending=[False]).to_csv('./OutPut/pivot_count/result/result_video_tag_year_sum.tsv', sep='\\t')\n",
    "result_video_tag_year.sum(axis=1).sort_values(ascending=[False])"
   ]
  },
  {
   "cell_type": "code",
   "execution_count": null,
   "metadata": {
    "collapsed": true
   },
   "outputs": [],
   "source": []
  },
  {
   "cell_type": "code",
   "execution_count": 22,
   "metadata": {},
   "outputs": [
    {
     "name": "stderr",
     "output_type": "stream",
     "text": [
      "C:\\Users\\AdminUser\\Anaconda2\\lib\\site-packages\\ipykernel_launcher.py:9: MatplotlibDeprecationWarning: The set_axis_bgcolor function was deprecated in version 2.0. Use set_facecolor instead.\n",
      "  if __name__ == '__main__':\n"
     ]
    },
    {
     "data": {
      "text/plain": [
       "<matplotlib.figure.Figure at 0x287143c8>"
      ]
     },
     "metadata": {},
     "output_type": "display_data"
    },
    {
     "data": {
      "image/png": "[encoded data removed]",
      "text/plain": [
       "<matplotlib.figure.Figure at 0x1123564e0>"
      ]
     },
     "metadata": {},
     "output_type": "display_data"
    }
   ],
   "source": [
    "#https://matplotlib.org/api/_as_gen/matplotlib.pyplot.plot.html\n",
    "from matplotlib.font_manager import FontProperties\n",
    "import matplotlib\n",
    "\n",
    "fig = plt.figure()\n",
    "font = {'family' : 'IPAexGothic'}\n",
    "matplotlib.rc('font', **font)\n",
    "styles = ['-.', '--,', '-.o', ':v','-^', '--<', '-.>', ':1','-2', '--3']\n",
    "result_video_tag_year.iloc[0:10,0:39].T.plot(cmap='gray', alpha=0.5,style=styles,grid=True).set_axis_bgcolor('whitesmoke') "
   ]
  },
  {
   "cell_type": "code",
   "execution_count": null,
   "metadata": {
    "collapsed": true
   },
   "outputs": [],
   "source": []
  }
 ],
 "metadata": {
  "kernelspec": {
   "display_name": "Python 2",
   "language": "python",
   "name": "python2"
  },
  "language_info": {
   "codemirror_mode": {
    "name": "ipython",
    "version": 2
   },
   "file_extension": ".py",
   "mimetype": "text/x-python",
   "name": "python",
   "nbconvert_exporter": "python",
   "pygments_lexer": "ipython2",
   "version": "2.7.13"
  }
 },
 "nbformat": 4,
 "nbformat_minor": 2
}
